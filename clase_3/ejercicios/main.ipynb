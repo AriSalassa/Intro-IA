{
 "cells": [
  {
   "cell_type": "markdown",
   "source": [
    "# Guía de ejercicios\n",
    "\n",
    "Ejercicios de aplicación de NumPy aplicados a Ingeniería de Features y Regresión Lineal."
   ],
   "metadata": {}
  },
  {
   "cell_type": "code",
   "execution_count": 105,
   "source": [
    "import numpy as np\n",
    "from sklearn.preprocessing import StandardScaler\n",
    "import pickle\n",
    "import os\n",
    "import matplotlib.pyplot as plt\n",
    "from numpy.lib.recfunctions import unstructured_to_structured\n",
    "from abc import ABC, abstractmethod"
   ],
   "outputs": [],
   "metadata": {}
  },
  {
   "cell_type": "markdown",
   "source": [
    "## Ejercicio #1. Normalización\n",
    "Dado un dataset X de n muestras y m features, implementar un método en numpy para normalizar con z-score."
   ],
   "metadata": {}
  },
  {
   "cell_type": "code",
   "execution_count": null,
   "source": [
    "def custom_normalize(X: np.ndarray):\n",
    "    x_mean = np.mean(X, axis=0)\n",
    "    x_std = np.std(X, axis=0)\n",
    "\n",
    "    Z = (X - x_mean)/x_std\n",
    "\n",
    "    return Z"
   ],
   "outputs": [],
   "metadata": {}
  },
  {
   "cell_type": "code",
   "execution_count": null,
   "source": [
    "n = 100 \n",
    "m = 3\n",
    "\n",
    "X_test = np.random.normal(loc=[i for i in range(m)], scale=[i+2 for i in range(m)], size=(n,m))\n",
    "print(\"mean: \\n\", X_test.mean(axis=0))\n",
    "print(\"std: \\n\", X_test.std(axis=0))"
   ],
   "outputs": [],
   "metadata": {}
  },
  {
   "cell_type": "code",
   "execution_count": null,
   "source": [
    "X_test_norm = custom_normalize(X_test)\n",
    "print(\"mean norm: \\n\", X_test_norm.mean(axis=0))\n",
    "print(\"std norm: \\n\", X_test_norm.std(axis=0))"
   ],
   "outputs": [],
   "metadata": {}
  },
  {
   "cell_type": "markdown",
   "source": [
    "## Ejercicio #2. Remover filas y columnas con NaNs en un dataset\n",
    "Dado un dataset, hacer una función que, utilizando numpy, filtre las columnas y las filas que tienen NaNs."
   ],
   "metadata": {}
  },
  {
   "cell_type": "code",
   "execution_count": null,
   "source": [
    "def remove_cols_nan(X: np.ndarray):\n",
    "    return X[:, ~np.isnan(X).any(axis=0)]\n",
    "\n",
    "def remove_rows_nan(X: np.ndarray):\n",
    "    return X[~np.isnan(X).any(axis=1), :]"
   ],
   "outputs": [],
   "metadata": {}
  },
  {
   "cell_type": "code",
   "execution_count": null,
   "source": [
    "X_test_nan = X_test.copy()\n",
    "\n",
    "n_nan = 10\n",
    "X_test_nan.ravel()[np.random.choice(X_test_nan.size, n_nan, replace=False)] = np.nan\n",
    "print(X_test_nan[:10])"
   ],
   "outputs": [],
   "metadata": {}
  },
  {
   "cell_type": "code",
   "execution_count": null,
   "source": [
    "X_test_nan_1 = remove_cols_nan(X_test_nan)\n",
    "print(\"Removing cols: \\n\", X_test_nan_1)\n",
    "X_test_nan_2 = remove_rows_nan(X_test_nan)\n",
    "print(\"Removing rows: \\n\", X_test_nan_2)"
   ],
   "outputs": [],
   "metadata": {}
  },
  {
   "cell_type": "markdown",
   "source": [
    "## Ejecicio #3: Reemplazar NaNs por la media de la columna\n",
    "Dado un dataset, hacer una función que utilizando numpy reemplace los NaNs por la media de la columna."
   ],
   "metadata": {}
  },
  {
   "cell_type": "code",
   "execution_count": null,
   "source": [
    "def replace_nan_with_mean(X: np.ndarray):\n",
    "    x_mean = np.nanmean(X, axis=0)\n",
    "    return np.nan_to_num(X, nan=x_mean)"
   ],
   "outputs": [],
   "metadata": {}
  },
  {
   "cell_type": "code",
   "execution_count": null,
   "source": [
    "replace_nan_with_mean(X_test_nan)[:10]"
   ],
   "outputs": [],
   "metadata": {}
  },
  {
   "cell_type": "markdown",
   "source": [
    "## Ejecicio #4: Dado un dataset X separarlo en 70 / 20 / 10\n",
    "A partir de utilizar np.random.permutation, hacer un método que dado un dataset, devuelva los 3 datasets como nuevos numpy arrays."
   ],
   "metadata": {}
  },
  {
   "cell_type": "code",
   "execution_count": null,
   "source": [
    "def split_dataset(X: np.ndarray, train: float = 0.7, val: float = 0.2, test: float = 0.1):\n",
    "    total_len = len(X)\n",
    "    train_len = int(train * total_len)\n",
    "    val_len = int(val * total_len)\n",
    "\n",
    "    X = np.random.permutation(X)\n",
    "\n",
    "    X_train = X[:train_len]\n",
    "    X_val = X[train_len:train_len+val_len]\n",
    "    X_test = X[train_len+val_len:]\n",
    "\n",
    "    return X_train, X_val, X_test"
   ],
   "outputs": [],
   "metadata": {}
  },
  {
   "cell_type": "code",
   "execution_count": null,
   "source": [
    "train, val, test = split_dataset(X_test)"
   ],
   "outputs": [],
   "metadata": {}
  },
  {
   "cell_type": "code",
   "execution_count": null,
   "source": [
    "print(\"X shape:\", X_test.shape)\n",
    "print(\"X train shape:\", train.shape)\n",
    "print(\"X val shape:\", val.shape)\n",
    "print(\"X test shape:\", test.shape)"
   ],
   "outputs": [],
   "metadata": {}
  },
  {
   "cell_type": "markdown",
   "source": [
    "## Ejercicio #5: A partir del dataset de consigna, aplicar los conceptos de regresión lineal.\n",
    "\n",
    "1. Armar una clase para cargar el dataset en un ndarray estructurado, tal como se realizó en el ejercicio 10 de la Clase 1.\n",
    "2. Incluir un método split a la clase para obtener los sets de training y test.\n",
    "3. Crear una clase métrica base y una clase MSE (Error cuadrático medio) que herede de la clase base.\n",
    "4. Crear una clase modelo base y clases regresión lineal y regresión afín que hereden de la primera. Usar los conocimientos teóricos vistos en clase.\n",
    "5. Hacer un fit de las regresiones con los datos de entrenamiento.\n",
    "6. Hacer un predict sobre los datos de test y reportar el MSE en cada caso.\n",
    "7. Graficar la curva obtenida."
   ],
   "metadata": {}
  },
  {
   "cell_type": "code",
   "execution_count": null,
   "source": [
    "class DataHandler(object):\n",
    "    __instance = None\n",
    "\n",
    "    def __new__(cls, *args, **kwargs):\n",
    "        if DataHandler.__instance is None:\n",
    "            DataHandler.__instance = object.__new__(cls)\n",
    "\n",
    "        return DataHandler.__instance\n",
    "\n",
    "    def __init__(self, path, dtypes):\n",
    "        super().__init__()\n",
    "        self.path = path\n",
    "        self.dtypes = dtypes\n",
    "        self.pickle_file = self.path.rsplit('.', 1)[0] + \".pkl\"\n",
    "        if os.path.exists(self.pickle_file):\n",
    "            self.upload_pickle()\n",
    "        else:\n",
    "            self.upload_csv()\n",
    "    \n",
    "    def upload_pickle(self):\n",
    "        print(\"Uploading pickle\")\n",
    "        with open(self.pickle_file,'rb') as f:\n",
    "            self.data = pickle.load(f)\n",
    "    \n",
    "    def upload_csv(self):\n",
    "        print(\"Uploading csv\")\n",
    "        dataset = np.genfromtxt(self.path, delimiter=\",\", skip_header=1)\n",
    "        self.data = unstructured_to_structured(dataset, dtype=np.dtype(self.dtypes))\n",
    "        with open(self.pickle_file,'wb') as f:\n",
    "            pickle.dump(self.data, f)\n",
    "\n",
    "    def split_dataset(self, train: float = 0.7, val: float = 0.2, test: float = 0.1):\n",
    "        total_len = len(self.data)\n",
    "        train_len = round(train * total_len)\n",
    "        val_len = round(val * total_len)\n",
    "\n",
    "        X = np.random.permutation(self.data)\n",
    "\n",
    "        X_train = X[:train_len]\n",
    "        X_val = X[train_len:train_len+val_len]\n",
    "        X_test = X[train_len+val_len:]\n",
    "\n",
    "        return X_train, X_val, X_test\n"
   ],
   "outputs": [],
   "metadata": {}
  },
  {
   "cell_type": "code",
   "execution_count": 207,
   "source": [
    "datapath = \"./data/income.csv\"\n",
    "datatypes = [(\"income\", 'float64'), (\"happiness\", 'float64')]\n",
    "\n",
    "data_handler = DataHandler(path=datapath, dtypes=datatypes)\n",
    "train, validation, test = data_handler.split_dataset(0.8, 0.1, 0.1)\n",
    "\n",
    "print(\"dataset shape:\", data_handler.data.shape)\n",
    "print(\"train set shape:\", train.shape)\n",
    "print(\"validation set shape:\", validation.shape)\n",
    "print(\"test set shape:\", test.shape)"
   ],
   "outputs": [
    {
     "output_type": "stream",
     "name": "stdout",
     "text": [
      "Uploading pickle\n",
      "dataset shape: (498,)\n",
      "train set shape: (398,)\n",
      "validation set shape: (50,)\n",
      "test set shape: (50,)\n"
     ]
    }
   ],
   "metadata": {}
  },
  {
   "cell_type": "code",
   "execution_count": 208,
   "source": [
    "train[:5]"
   ],
   "outputs": [
    {
     "output_type": "execute_result",
     "data": {
      "text/plain": [
       "array([(0, 6.27926507, 4.23499122), (0, 4.92494969, 3.09216465),\n",
       "       (0, 6.54098836, 5.71380229), (0, 4.22355358, 2.29570014),\n",
       "       (0, 2.30719771, 3.50960469)],\n",
       "      dtype=[('f0', '<u8'), ('income', '<f8'), ('happiness', '<f8')])"
      ]
     },
     "metadata": {},
     "execution_count": 208
    }
   ],
   "metadata": {}
  },
  {
   "cell_type": "code",
   "execution_count": 209,
   "source": [
    "training_set = train.view('<f8').reshape(train.shape[0], 3)\n",
    "training_set[:5]"
   ],
   "outputs": [
    {
     "output_type": "execute_result",
     "data": {
      "text/plain": [
       "array([[0.        , 6.27926507, 4.23499122],\n",
       "       [0.        , 4.92494969, 3.09216465],\n",
       "       [0.        , 6.54098836, 5.71380229],\n",
       "       [0.        , 4.22355358, 2.29570014],\n",
       "       [0.        , 2.30719771, 3.50960469]])"
      ]
     },
     "metadata": {},
     "execution_count": 209
    }
   ],
   "metadata": {}
  },
  {
   "cell_type": "code",
   "execution_count": 186,
   "source": [
    "class BaseMetric:\n",
    "    def __init__(self, **kwargs):\n",
    "        self.truth = kwargs.get(\"truth\", [])\n",
    "        self.prediction = kwargs.get(\"prediction\", [])\n",
    "\n",
    "class MSE(BaseMetric):\n",
    "    def __call__(self):\n",
    "        print(\"MSE __call__\")\n",
    "        #for i in range(self.truth.shape[0]):\n",
    "        #    print(self.truth[i], self.prediction[i])\n",
    "        return 1 / len(self.truth) * np.sum((self.truth - self.prediction) ** 2)"
   ],
   "outputs": [],
   "metadata": {}
  },
  {
   "cell_type": "code",
   "execution_count": 211,
   "source": [
    "class BaseModel(ABC):\n",
    "    def __init__(self, train, val, test):\n",
    "        super().__init__()\n",
    "        self.training_set = train\n",
    "        self.validation_set = val\n",
    "        self.test_set = test\n",
    "        self.num_col = len(train[0])\n",
    "    \n",
    "    @abstractmethod\n",
    "    def fit(self):\n",
    "        pass\n",
    "\n",
    "    @abstractmethod\n",
    "    def predict(self):\n",
    "        pass\n",
    "\n",
    "class LinearRegressor(BaseModel):\n",
    "    def fit(self):\n",
    "        # Convert np.void arrays to structured data\n",
    "        training_set = self.training_set.view('<f8').reshape(self.training_set.shape[0], self.num_col)\n",
    "\n",
    "        # Get data and labels\n",
    "        y = training_set[:, -1]\n",
    "        X = training_set[:, 1:-1]\n",
    "\n",
    "        # Add column vector of ones to X\n",
    "        X = np.c_[X, np.ones(len(X))]\n",
    "\n",
    "        # Obtain w and b\n",
    "        model = np.linalg.inv(X.T.dot(X)).dot(X.T).dot(y)\n",
    "\n",
    "        self.b = model[-1]\n",
    "        self.w = model[:-1]\n",
    "\n",
    "        return\n",
    "\n",
    "    def predict(self):\n",
    "        # Convert np.void arrays to structured data\n",
    "        test_set = self.test_set.view('<f8').reshape(self.test_set.shape[0], self.num_col)\n",
    "        y = test_set[:, -1]\n",
    "        X = test_set[:, 1:-1]\n",
    "\n",
    "        return X.dot(self.w) + self.b"
   ],
   "outputs": [],
   "metadata": {}
  },
  {
   "cell_type": "code",
   "execution_count": 212,
   "source": [
    "lin_reg = LinearRegressor(train, validation, test)\n",
    "lin_reg.fit()"
   ],
   "outputs": [],
   "metadata": {}
  },
  {
   "cell_type": "code",
   "execution_count": 213,
   "source": [
    "error = MSE(truth=test[\"happiness\"], prediction=lin_reg.predict())()\n",
    "print(\"MSE: \", error)"
   ],
   "outputs": [
    {
     "output_type": "stream",
     "name": "stdout",
     "text": [
      "MSE __call__\n",
      "MSE:  0.5981736849796397\n"
     ]
    }
   ],
   "metadata": {}
  },
  {
   "cell_type": "code",
   "execution_count": 219,
   "source": [
    "print(lin_reg.b)\n",
    "print(lin_reg.w)"
   ],
   "outputs": [
    {
     "output_type": "stream",
     "name": "stdout",
     "text": [
      "0.2730270352044708\n",
      "[0.70325468]\n"
     ]
    }
   ],
   "metadata": {}
  },
  {
   "cell_type": "code",
   "execution_count": 220,
   "source": [
    "plt.scatter(train[\"income\"], train[\"happiness\"])\n",
    "x_val = np.arange(1, 9)\n",
    "lin_reg = lin_reg.w * x_val + lin_reg.b \n",
    "plt.plot(x_val, lin_reg, 'r')\n",
    "plt.grid()"
   ],
   "outputs": [
    {
     "output_type": "display_data",
     "data": {
      "text/plain": [
       "<Figure size 432x288 with 1 Axes>"
      ],
      "image/png": "[encoded data removed]"
     },
     "metadata": {
      "needs_background": "light"
     }
    }
   ],
   "metadata": {}
  }
 ],
 "metadata": {
  "orig_nbformat": 4,
  "language_info": {
   "name": "python",
   "version": "3.8.8",
   "mimetype": "text/x-python",
   "codemirror_mode": {
    "name": "ipython",
    "version": 3
   },
   "pygments_lexer": "ipython3",
   "nbconvert_exporter": "python",
   "file_extension": ".py"
  },
  "kernelspec": {
   "name": "python3",
   "display_name": "Python 3.8.8 64-bit ('base': conda)"
  },
  "interpreter": {
   "hash": "00dfc0830a513947b60a95c876dfb43a1534c820f0c320933420ad340a02dc2c"
  }
 },
 "nbformat": 4,
 "nbformat_minor": 2
}