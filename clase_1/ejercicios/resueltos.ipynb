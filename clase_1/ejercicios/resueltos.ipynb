{
 "cells": [
  {
   "cell_type": "code",
   "execution_count": 185,
   "source": [
    "import numpy as np\n",
    "import matplotlib.pyplot as plt"
   ],
   "outputs": [],
   "metadata": {}
  },
  {
   "cell_type": "markdown",
   "source": [
    "## Ejercicio 1"
   ],
   "metadata": {}
  },
  {
   "cell_type": "code",
   "execution_count": 18,
   "source": [
    "matrix = np.arange(0, 20).reshape((4,5))"
   ],
   "outputs": [],
   "metadata": {}
  },
  {
   "cell_type": "code",
   "execution_count": 10,
   "source": [
    "# norma l0\n",
    "l0 = np.linalg.norm(matrix, ord=0, axis=1)\n",
    "print(l0)\n",
    "# norma l1\n",
    "l1 = np.linalg.norm(matrix, ord=1, axis=1)\n",
    "print(l1)\n",
    "# norma l2\n",
    "l2 = np.linalg.norm(matrix, ord=2, axis=1)\n",
    "print(l2)\n",
    "# norma inf\n",
    "linf = np.linalg.norm(matrix, ord=np.inf, axis=1)\n",
    "print(linf)"
   ],
   "outputs": [
    {
     "output_type": "stream",
     "name": "stdout",
     "text": [
      "[4. 5. 5. 5.]\n",
      "[10. 35. 60. 85.]\n",
      "[ 5.47722558 15.96871942 27.01851217 38.14446225]\n",
      "[ 4.  9. 14. 19.]\n"
     ]
    }
   ],
   "metadata": {}
  },
  {
   "cell_type": "markdown",
   "source": [
    "## Ejercicio 2"
   ],
   "metadata": {}
  },
  {
   "cell_type": "code",
   "execution_count": 32,
   "source": [
    "A_bis = np.random.rand(3,4)\n",
    "print(f\"A: {A_bis}\\n\")\n",
    "l2 = np.linalg.norm(A_bis, ord=2, axis=1)\n",
    "print(f\"l2: {l2}\\n\")\n",
    "arg_l2_sorted = np.argsort(l2)[::-1]\n",
    "print(arg_l2_sorted)\n",
    "A_bis[arg_l2_sorted]"
   ],
   "outputs": [
    {
     "output_type": "stream",
     "name": "stdout",
     "text": [
      "A: [[0.25583584 0.28229899 0.36409929 0.20626863]\n",
      " [0.41094928 0.74518039 0.2894102  0.09987182]\n",
      " [0.27279161 0.61941064 0.00080131 0.1591652 ]]\n",
      "\n",
      "l2: [0.56591496 0.90438143 0.6952834 ]\n",
      "\n",
      "[1 2 0]\n"
     ]
    },
    {
     "output_type": "execute_result",
     "data": {
      "text/plain": [
       "array([[0.41094928, 0.74518039, 0.2894102 , 0.09987182],\n",
       "       [0.27279161, 0.61941064, 0.00080131, 0.1591652 ],\n",
       "       [0.25583584, 0.28229899, 0.36409929, 0.20626863]])"
      ]
     },
     "metadata": {},
     "execution_count": 32
    }
   ],
   "metadata": {}
  },
  {
   "cell_type": "markdown",
   "source": [
    "## Ejercicio 3"
   ],
   "metadata": {}
  },
  {
   "cell_type": "code",
   "execution_count": 38,
   "source": [
    "import indentificador\n",
    "\n",
    "user_ids = np.random.randint(1, size=100)\n",
    "ident = indentificador.Identificador(user_ids)\n",
    "\n",
    "choice = np.random.choice(user_ids)\n",
    "\n",
    "ident.id2idx[choice]\n"
   ],
   "outputs": [
    {
     "output_type": "execute_result",
     "data": {
      "text/plain": [
       "99"
      ]
     },
     "metadata": {},
     "execution_count": 38
    }
   ],
   "metadata": {}
  },
  {
   "cell_type": "markdown",
   "source": [
    "## Ejercicio 4"
   ],
   "metadata": {}
  },
  {
   "cell_type": "code",
   "execution_count": 41,
   "source": [
    "truth = np.array([1,1,0,1,1,1,0,0,0,1])\n",
    "prediction = np.array([1,1,1,1,0,0,1,1,0,0])\n",
    "\n",
    "# True positive:\n",
    "TP = np.sum(np.logical_and(truth == 1, prediction == 1))\n",
    "\n",
    "# True negative:\n",
    "TN = np.sum(np.logical_and(truth == 0, prediction == 0))\n",
    "\n",
    "# False positive:\n",
    "FP = np.sum(np.logical_and(truth == 0, prediction == 1))\n",
    "\n",
    "# False negative:\n",
    "FN = np.sum(np.logical_and(truth == 1, prediction == 0))\n",
    "\n",
    "Precision = TP/(TP+FP)\n",
    "Recall = TP/(TP+FN)\n",
    "Accuracy = (TP + TN) / (TP + TN + FP + FN)\n",
    "\n",
    "print(f\"Precision: {Precision}\")\n",
    "print(f\"Recall: {Recall}\")\n",
    "print(f\"Accuracy: {Accuracy}\")"
   ],
   "outputs": [
    {
     "output_type": "stream",
     "name": "stdout",
     "text": [
      "Precision: 0.5\n",
      "Recall: 0.5\n",
      "Accuracy: 0.4\n"
     ]
    }
   ],
   "metadata": {}
  },
  {
   "cell_type": "markdown",
   "source": [
    "## Ejercicio 5"
   ],
   "metadata": {}
  },
  {
   "cell_type": "code",
   "execution_count": 67,
   "source": [
    "q_id =             np.array([[1, 1, 1, 1, 2, 2, 2, 3, 3, 3, 3, 3, 4, 4, 4, 4]])\n",
    "predicted_rank =   np.array([[0, 1, 2, 3, 0, 1, 2, 0, 1, 2, 3, 4, 0, 1, 2, 3]])\n",
    "truth_relevance =  np.array([[True, False, True, False, True, True, True, False, False, False, False, False, True, False, False, True]])\n",
    "\n",
    "concatenated = np.concatenate((q_id, predicted_rank, truth_relevance), axis=0)\n",
    "\n",
    "unique_values = np.unique(q_id) \n",
    "\n",
    "sum_aux = 0\n",
    "for unique_value in unique_values:\n",
    "    filtered = concatenated[:,concatenated[0,:] == unique_value]\n",
    "    sum_aux += np.sum(filtered[2,:]) / len(filtered[2,:])\n",
    "\n",
    "average_query_precision = sum_aux / len(unique_values)\n",
    "average_query_precision"
   ],
   "outputs": [
    {
     "output_type": "execute_result",
     "data": {
      "text/plain": [
       "0.5"
      ]
     },
     "metadata": {},
     "execution_count": 67
    }
   ],
   "metadata": {}
  },
  {
   "cell_type": "markdown",
   "source": [
    "## Ejercicio 6"
   ],
   "metadata": {}
  },
  {
   "cell_type": "code",
   "execution_count": 33,
   "source": [
    "X = np.array([[1, 2, 3], [4, 5, 6], [7, 8, 9]])\n",
    "print(X.shape)\n",
    "C = np.array([[1, 0, 0], [0, 1, 1]])\n",
    "\n",
    "d0 = np.linalg.norm(X - C[0,:], axis=1)\n",
    "d1 = np.linalg.norm(X - C[1,:], axis=1)\n",
    "\n",
    "print(\"d0:\", d0)\n",
    "print(\"d1:\", d1)"
   ],
   "outputs": [
    {
     "output_type": "stream",
     "name": "stdout",
     "text": [
      "(3, 3)\n",
      "d0: [ 3.60555128  8.36660027 13.45362405]\n",
      "d1: [ 2.44948974  7.54983444 12.72792206]\n"
     ]
    }
   ],
   "metadata": {}
  },
  {
   "cell_type": "code",
   "execution_count": 169,
   "source": [
    "def get_centroid_distances(x, c):\n",
    "    c_expanded = c[:,None]\n",
    "    #distances = np.linalg.norm(X-C_expanded, axis=2)\n",
    "    distances = np.linalg.norm(x-c_expanded, axis=-1)\n",
    "    return distances\n",
    "\n",
    "dist = get_centroid_distances(X,C)\n",
    "dist_2 = get_centroid_distances(np.array([[1, 2, 3], [4, 5, 6], [7, 8, 9]]), np.array([[1, 0, 0], [0, 1, 1], [1,1,1]]))\n",
    "dist_2.shape"
   ],
   "outputs": [
    {
     "output_type": "execute_result",
     "data": {
      "text/plain": [
       "(3, 3)"
      ]
     },
     "metadata": {},
     "execution_count": 169
    }
   ],
   "metadata": {}
  },
  {
   "cell_type": "markdown",
   "source": [
    "## Ejercicio 7"
   ],
   "metadata": {}
  },
  {
   "cell_type": "code",
   "execution_count": 16,
   "source": [
    "def get_minimum_distance(d):\n",
    "    minimum_distance = np.argmin(d, axis=0)\n",
    "    return minimum_distance\n",
    "\n",
    "min_dist = get_minimum_distance(dist)\n",
    "min_dist"
   ],
   "outputs": [
    {
     "output_type": "execute_result",
     "data": {
      "text/plain": [
       "array([1, 1, 1])"
      ]
     },
     "metadata": {},
     "execution_count": 16
    }
   ],
   "metadata": {}
  },
  {
   "cell_type": "markdown",
   "source": [
    "## Ejercicio 8"
   ],
   "metadata": {}
  },
  {
   "cell_type": "code",
   "execution_count": 170,
   "source": [
    "# Cantidad de clusters\n",
    "nc = 3\n",
    "\n",
    "# Cantidad de muestras\n",
    "nx = 100\n",
    "\n",
    "# Cantidad de iteraciones\n",
    "iter_max = 1000\n",
    "\n",
    "# Variación mínima (criterio de parada)\n",
    "delta = 0.01\n",
    "\n",
    "# Muestra random\n",
    "X_1 = np.random.normal(loc=[-5, -5, -5], scale=[1, 10, 5], size=(int(nx/3),3))\n",
    "X_2 = np.random.normal(loc=[1, 1, 1], scale=[1, 10, 5], size=(int(nx/3),3))\n",
    "X_3 = np.random.normal(loc=[-10, 10, 10], scale=[1, 10, 5], size=(int(nx/3) + 1,3))\n",
    "\n",
    "X = np.concatenate((X_1, X_2, X_3))\n",
    "print(X.shape)\n",
    "print(X[:5,:])"
   ],
   "outputs": [
    {
     "output_type": "stream",
     "name": "stdout",
     "text": [
      "(100, 3)\n",
      "[[ -5.55525371 -15.11773682   1.96939328]\n",
      " [ -5.54570634  10.97035271  -5.17262208]\n",
      " [ -3.81191885  11.36628175  -1.50690388]\n",
      " [ -5.02603916   2.82631846  -2.19404802]\n",
      " [ -4.42195014   9.27507379  -5.35061481]]\n"
     ]
    }
   ],
   "metadata": {}
  },
  {
   "cell_type": "code",
   "execution_count": 171,
   "source": [
    "def get_initial_centroids(X, nc):\n",
    "    choices = np.random.choice(len(X), nc)\n",
    "    centroids = X[choices]\n",
    "    return centroids\n",
    "\n",
    "inital_centroids = get_initial_centroids(X, nc)\n",
    "for centroid in inital_centroids:\n",
    "    print(centroid in X)"
   ],
   "outputs": [
    {
     "output_type": "stream",
     "name": "stdout",
     "text": [
      "True\n",
      "True\n",
      "True\n"
     ]
    }
   ],
   "metadata": {}
  },
  {
   "cell_type": "code",
   "execution_count": 176,
   "source": [
    "def k_means_loop(X, centroids):\n",
    "    distances = get_centroid_distances(X, centroids)\n",
    "    min_dist = get_minimum_distance(distances)\n",
    "\n",
    "    # recalculate centroid\n",
    "    for i in range(len(centroids)):\n",
    "        mask = min_dist == i\n",
    "        centroids[i] = np.mean(X[mask, :], axis=0)\n",
    "    \n",
    "    return centroids, min_dist"
   ],
   "outputs": [],
   "metadata": {}
  },
  {
   "cell_type": "code",
   "execution_count": 177,
   "source": [
    "def k_means(X, n_clusters, max_iterations = 1000):\n",
    "    #centroids = get_initial_centroids(X, n_clusters)\n",
    "    centroids = np.eye(n_clusters, X.shape[1])\n",
    "    for i in range(max_iterations):\n",
    "        centroids, cluster_ids = k_means_loop(X, centroids)\n",
    "    return centroids, cluster_ids"
   ],
   "outputs": [],
   "metadata": {}
  },
  {
   "cell_type": "code",
   "execution_count": 178,
   "source": [
    "def k_means_classify(X, centroids):\n",
    "    distances = get_centroid_distances(X, centroids)\n",
    "    min_dist = get_minimum_distance(distances)\n",
    "\n",
    "    return min_dist"
   ],
   "outputs": [],
   "metadata": {}
  },
  {
   "cell_type": "code",
   "execution_count": 180,
   "source": [
    "centroids, cluster_ids = k_means(X, nc)"
   ],
   "outputs": [],
   "metadata": {}
  },
  {
   "cell_type": "code",
   "execution_count": 181,
   "source": [
    "centroids"
   ],
   "outputs": [
    {
     "output_type": "execute_result",
     "data": {
      "text/plain": [
       "array([[ -4.15177802, -11.49268596,  -2.47742771],\n",
       "       [ -8.83105122,  14.1043753 ,   9.73432884],\n",
       "       [ -1.09355245,   3.22915557,  -2.07658949]])"
      ]
     },
     "metadata": {},
     "execution_count": 181
    }
   ],
   "metadata": {}
  },
  {
   "cell_type": "code",
   "execution_count": 184,
   "source": [
    "classification = k_means_classify(X, centroids)\n",
    "classification.shape"
   ],
   "outputs": [
    {
     "output_type": "execute_result",
     "data": {
      "text/plain": [
       "(100,)"
      ]
     },
     "metadata": {},
     "execution_count": 184
    }
   ],
   "metadata": {}
  },
  {
   "cell_type": "code",
   "execution_count": 191,
   "source": [
    "fig = plt.figure()\n",
    "ax = fig.add_subplot(projection='3d')\n",
    "ax.scatter(X[:,0], X[:,1], X[:,2], c=classification)\n",
    "ax.scatter(centroids[:,0], centroids[:,1], centroids[:,2], marker='^', s=200, c=np.unique(classification))\n",
    "\n",
    "ax.set_xlabel('X Label')\n",
    "ax.set_ylabel('Y Label')\n",
    "ax.set_zlabel('Z Label')\n",
    "\n",
    "plt.show()"
   ],
   "outputs": [
    {
     "output_type": "display_data",
     "data": {
      "text/plain": [
       "<Figure size 432x288 with 1 Axes>"
      ],
      "image/png": "[encoded data removed]"
     },
     "metadata": {
      "needs_background": "light"
     }
    }
   ],
   "metadata": {}
  },
  {
   "cell_type": "markdown",
   "source": [
    "## Ejercicio 9"
   ],
   "metadata": {}
  },
  {
   "cell_type": "code",
   "execution_count": null,
   "source": [],
   "outputs": [],
   "metadata": {}
  },
  {
   "cell_type": "markdown",
   "source": [
    "## Ejercicio 10"
   ],
   "metadata": {}
  },
  {
   "cell_type": "code",
   "execution_count": null,
   "source": [],
   "outputs": [],
   "metadata": {}
  }
 ],
 "metadata": {
  "orig_nbformat": 4,
  "language_info": {
   "name": "python",
   "version": "3.8.8",
   "mimetype": "text/x-python",
   "codemirror_mode": {
    "name": "ipython",
    "version": 3
   },
   "pygments_lexer": "ipython3",
   "nbconvert_exporter": "python",
   "file_extension": ".py"
  },
  "kernelspec": {
   "name": "python3",
   "display_name": "Python 3.8.8 64-bit ('base': conda)"
  },
  "interpreter": {
   "hash": "00dfc0830a513947b60a95c876dfb43a1534c820f0c320933420ad340a02dc2c"
  }
 },
 "nbformat": 4,
 "nbformat_minor": 2
}